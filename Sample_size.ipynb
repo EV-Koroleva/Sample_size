{
 "cells": [
  {
   "cell_type": "code",
   "execution_count": 39,
   "id": "38674e9f-54df-4a8f-b0a0-5bd954ea6f4f",
   "metadata": {},
   "outputs": [],
   "source": [
    "import pandas as pd\n",
    "import numpy as np\n",
    "import random\n",
    "import seaborn as sns\n",
    "import scipy.stats as ss\n",
    "import matplotlib.pyplot as plt\n",
    "from statsmodels.stats.proportion import proportion_confint\n",
    "from random import randint\n",
    "from statsmodels.stats.power import tt_ind_solve_power\n",
    "from statsmodels.stats.proportion import proportions_ztest\n",
    "from ssrm_test import ssrm_test"
   ]
  },
  {
   "cell_type": "markdown",
   "id": "8f74d888-a633-468d-9b3c-1861220d6b7d",
   "metadata": {},
   "source": [
    "# Исходные данные"
   ]
  },
  {
   "cell_type": "markdown",
   "id": "5ba91b90-6ee8-4c80-a497-359ecc5dfac5",
   "metadata": {},
   "source": [
    "**Описание исходных данных и схемы таблиц:**\n",
    "\n",
    "1. **паспорт пользователя** (user_passports)\n",
    "* **execution_date** - дата, на которую актуальны данные о зарегистрированных пользователях\n",
    "* **created_at** - дата регистрации аккаунта пользователя\n",
    "* **global_id** - ID пользователя в продукте\n",
    "* **user_type_cars_name** - тип кабинета пользователя\n",
    "<br>(a) cars_simple - простой кабинет,\n",
    "<br>(b) cars_seller - кабинет продавца,\n",
    "<br>(c) cars_dealer - кабинет дилера</br>\n",
    "* **user_type_cars_id** - id типа кабинета пользователя\n",
    "<br>(a) 0 - простой кабинет,\n",
    "<br>(b) 6 - кабинет продавца,\n",
    "<br>(c) 7 - кабинет дилера</br>\n",
    "\n",
    "\n",
    "2. **размещенные объявления** (dp_live_adverts) - таблица с оптимизированными данными live_adverts\n",
    "* **execution_date** - дата, на которую объявление находилось в live\n",
    "* **advert_id** - уникальный номер объявления\n",
    "* **created_at** - дата, когда было создано объявление\n",
    "* **price** - стоимость авто в объявлении\n",
    "* **region** - город, в котором продается авто\n",
    "* **user_id** - ID пользователя в продукте (global_id в паспорте пользователя)\n",
    "* **passport_id** - локальный ID пользователя\n",
    "* **platform** - платформа, через которую было размещено объявление\n",
    "<br>(a) android - мобильное приложение - android,\n",
    "<br>(b) ios - мобильное приложение - ios,\n",
    "<br>(c) desktop - подано через сайт,\n",
    "<br>(d) mobile - подано в мобильной версии сайта,</br>\n",
    "* **auto_brand** - марка авто\n",
    "* **auto_model** - модель авто\n",
    "* **year** - год выпуска авто\n",
    "* **userType** - тип кабинета пользователя на момент размещения объявления в live\n",
    "\n",
    "3. **транзакции** (user_transaction)\n",
    "* **payment_date** - дата платежа\n",
    "* **type** - вид оплачиваемой услуги\n",
    "* **sign** - \"-1\" уазывает, что была приобретена услуга и списана оплата\n",
    "* **amount** - количество списанных денег\n"
   ]
  },
  {
   "cell_type": "markdown",
   "id": "8b6773a4-2a53-45ad-9c59-b553c171882a",
   "metadata": {},
   "source": [
    "# Загрузка данных по пользователям"
   ]
  },
  {
   "cell_type": "code",
   "execution_count": 3,
   "id": "634b98d8-9cf9-4223-9a01-5641ab064313",
   "metadata": {},
   "outputs": [
    {
     "name": "stdout",
     "output_type": "stream",
     "text": [
      "<class 'pandas.core.frame.DataFrame'>\n",
      "RangeIndex: 136584 entries, 0 to 136583\n",
      "Data columns (total 6 columns):\n",
      " #   Column               Non-Null Count   Dtype \n",
      "---  ------               --------------   ----- \n",
      " 0   passport_id          136584 non-null  int64 \n",
      " 1   region               133114 non-null  object\n",
      " 2   platform             133114 non-null  object\n",
      " 3   user_type_cars_name  130112 non-null  object\n",
      " 4   number_ads           136584 non-null  int64 \n",
      " 5   revenue              136584 non-null  int64 \n",
      "dtypes: int64(3), object(3)\n",
      "memory usage: 6.3+ MB\n"
     ]
    }
   ],
   "source": [
    "df_user_passports = pd.read_csv('samples1.csv', encoding = 'utf-8')\n",
    "df_user_passports.info()"
   ]
  },
  {
   "cell_type": "code",
   "execution_count": 5,
   "id": "3d792a2f-bafd-4e77-a584-3857dfdd3013",
   "metadata": {},
   "outputs": [],
   "source": [
    "df_user_passports = df_user_passports.dropna()"
   ]
  },
  {
   "cell_type": "code",
   "execution_count": 7,
   "id": "1ae72f86-a671-48c8-8d8e-3f7867886024",
   "metadata": {},
   "outputs": [],
   "source": [
    "# Добавим столбец 'vas', где будет указано, платящий пользователь или нет\n",
    "df_user_passports['vas'] = df_user_passports['revenue'].apply(lambda x: 'paying' if x > 0 else 'non-paying')"
   ]
  },
  {
   "cell_type": "code",
   "execution_count": 9,
   "id": "261b4232-13a4-434d-96b1-56a4b80df04a",
   "metadata": {},
   "outputs": [
    {
     "data": {
      "text/html": [
       "<div>\n",
       "<style scoped>\n",
       "    .dataframe tbody tr th:only-of-type {\n",
       "        vertical-align: middle;\n",
       "    }\n",
       "\n",
       "    .dataframe tbody tr th {\n",
       "        vertical-align: top;\n",
       "    }\n",
       "\n",
       "    .dataframe thead th {\n",
       "        text-align: right;\n",
       "    }\n",
       "</style>\n",
       "<table border=\"1\" class=\"dataframe\">\n",
       "  <thead>\n",
       "    <tr style=\"text-align: right;\">\n",
       "      <th></th>\n",
       "      <th>passport_id</th>\n",
       "      <th>region</th>\n",
       "      <th>platform</th>\n",
       "      <th>user_type_cars_name</th>\n",
       "      <th>number_ads</th>\n",
       "      <th>revenue</th>\n",
       "      <th>vas</th>\n",
       "    </tr>\n",
       "  </thead>\n",
       "  <tbody>\n",
       "    <tr>\n",
       "      <th>0</th>\n",
       "      <td>144161634</td>\n",
       "      <td>Санкт-Петербург</td>\n",
       "      <td>android</td>\n",
       "      <td>cars_seller</td>\n",
       "      <td>2</td>\n",
       "      <td>1080</td>\n",
       "      <td>paying</td>\n",
       "    </tr>\n",
       "    <tr>\n",
       "      <th>1</th>\n",
       "      <td>132683716</td>\n",
       "      <td>Калининград</td>\n",
       "      <td>android</td>\n",
       "      <td>cars_simple</td>\n",
       "      <td>1</td>\n",
       "      <td>190</td>\n",
       "      <td>paying</td>\n",
       "    </tr>\n",
       "    <tr>\n",
       "      <th>2</th>\n",
       "      <td>142653188</td>\n",
       "      <td>Санкт-Петербург</td>\n",
       "      <td>android</td>\n",
       "      <td>cars_seller</td>\n",
       "      <td>1</td>\n",
       "      <td>0</td>\n",
       "      <td>non-paying</td>\n",
       "    </tr>\n",
       "    <tr>\n",
       "      <th>3</th>\n",
       "      <td>124199631</td>\n",
       "      <td>Казань</td>\n",
       "      <td>android</td>\n",
       "      <td>cars_simple</td>\n",
       "      <td>1</td>\n",
       "      <td>190</td>\n",
       "      <td>paying</td>\n",
       "    </tr>\n",
       "    <tr>\n",
       "      <th>4</th>\n",
       "      <td>144045240</td>\n",
       "      <td>Казань</td>\n",
       "      <td>android</td>\n",
       "      <td>cars_simple</td>\n",
       "      <td>1</td>\n",
       "      <td>0</td>\n",
       "      <td>non-paying</td>\n",
       "    </tr>\n",
       "  </tbody>\n",
       "</table>\n",
       "</div>"
      ],
      "text/plain": [
       "   passport_id           region platform user_type_cars_name  number_ads  \\\n",
       "0    144161634  Санкт-Петербург  android         cars_seller           2   \n",
       "1    132683716      Калининград  android         cars_simple           1   \n",
       "2    142653188  Санкт-Петербург  android         cars_seller           1   \n",
       "3    124199631           Казань  android         cars_simple           1   \n",
       "4    144045240           Казань  android         cars_simple           1   \n",
       "\n",
       "   revenue         vas  \n",
       "0     1080      paying  \n",
       "1      190      paying  \n",
       "2        0  non-paying  \n",
       "3      190      paying  \n",
       "4        0  non-paying  "
      ]
     },
     "execution_count": 9,
     "metadata": {},
     "output_type": "execute_result"
    }
   ],
   "source": [
    "df_user_passports.head(5)"
   ]
  },
  {
   "cell_type": "markdown",
   "id": "18a23195-dfca-434a-a2be-9d2ab6e511f2",
   "metadata": {},
   "source": [
    "# Платящие пользователи"
   ]
  },
  {
   "cell_type": "code",
   "execution_count": 17,
   "id": "e7462cd8-b8a9-4a21-a65a-ae95e20e2e1b",
   "metadata": {},
   "outputs": [
    {
     "name": "stdout",
     "output_type": "stream",
     "text": [
      "Средняя доля платящих пользователей: 0.5226\n"
     ]
    }
   ],
   "source": [
    "# Найдём долю платящих пользователей\n",
    "total_users = len(df_user_passports)\n",
    "paying_users = (df_user_passports['vas'] == 'paying').sum()\n",
    "share_of_paying_users = paying_users / total_users\n",
    "print(f'Средняя доля платящих пользователей: {share_of_paying_users:.4}')"
   ]
  },
  {
   "cell_type": "code",
   "execution_count": 19,
   "id": "eb5abfcf-2444-486b-aee6-780f16151515",
   "metadata": {},
   "outputs": [
    {
     "name": "stdout",
     "output_type": "stream",
     "text": [
      "Размер стратифицированной выборки: 6478 строк\n"
     ]
    },
    {
     "name": "stderr",
     "output_type": "stream",
     "text": [
      "C:\\Users\\ludwi\\AppData\\Local\\Temp\\ipykernel_11676\\1778654473.py:5: DeprecationWarning: DataFrameGroupBy.apply operated on the grouping columns. This behavior is deprecated, and in a future version of pandas the grouping columns will be excluded from the operation. Either pass `include_groups=False` to exclude the groupings or explicitly select the grouping columns after groupby to silence this warning.\n",
      "  .apply(lambda x: x.sample(frac=0.05, random_state=42))\n"
     ]
    }
   ],
   "source": [
    "np.random.seed(42)\n",
    "stratified_sample = (\n",
    "    df_user_passports\n",
    "    .groupby(['region', 'platform', 'user_type_cars_name', 'vas'], group_keys=False)\n",
    "    .apply(lambda x: x.sample(frac=0.05, random_state=42))\n",
    ")\n",
    "print(f\"Размер стратифицированной выборки: {len(stratified_sample)} строк\")"
   ]
  },
  {
   "cell_type": "code",
   "execution_count": 21,
   "id": "90725253-e426-4430-9f4f-8129eadc5141",
   "metadata": {},
   "outputs": [
    {
     "name": "stdout",
     "output_type": "stream",
     "text": [
      "Средняя доля платящих пользователей: 0.5221\n"
     ]
    }
   ],
   "source": [
    "mean_paying = (stratified_sample['vas'] == 'paying').mean()\n",
    "\n",
    "print(f\"Средняя доля платящих пользователей: {mean_paying:.4f}\")"
   ]
  },
  {
   "cell_type": "code",
   "execution_count": 23,
   "id": "fcc55f1d-dd3a-4b9a-8a0c-53b6633907c3",
   "metadata": {},
   "outputs": [
    {
     "name": "stdout",
     "output_type": "stream",
     "text": [
      "Доля android пользователей: 0.6425\n"
     ]
    }
   ],
   "source": [
    "mean_paying = (stratified_sample['platform'] == 'android').mean()\n",
    "\n",
    "print(f\"Доля android пользователей: {mean_paying:.4f}\")"
   ]
  },
  {
   "cell_type": "markdown",
   "id": "171853c6-49a4-49f1-8202-3fd97c342cc1",
   "metadata": {},
   "source": [
    "# Проверка выборки на репрезентативность"
   ]
  },
  {
   "cell_type": "markdown",
   "id": "a6eb4cea-20fb-4377-a3b7-2bca62c1b686",
   "metadata": {},
   "source": [
    "- по параметру неплатящих пользователей (выборка['vas'] = 0);\n",
    "\n",
    "- по платформе Андроид (выборка['platform'] = 'android');\n",
    "\n",
    "- по типу профессионального кабинета cars_seller (выборка['user_type_cars_name'] = 'cars_seller')."
   ]
  },
  {
   "cell_type": "code",
   "execution_count": 27,
   "id": "5b553ede-3ebf-41eb-8d0b-29b6fa3319d8",
   "metadata": {},
   "outputs": [],
   "source": [
    "# Функция для расчета p-value по z-тесту\n",
    "def calc_p_value(full, sample, condition):\n",
    "    count_full = condition(full).sum()\n",
    "    count_sample = condition(sample).sum()\n",
    "    n_full = len(full)\n",
    "    n_sample = len(sample)\n",
    "    \n",
    "    count = np.array([count_sample, count_full])\n",
    "    nobs = np.array([n_sample, n_full])\n",
    "    \n",
    "    stat, pval = proportions_ztest(count, nobs)\n",
    "    return round(pval, 3)"
   ]
  },
  {
   "cell_type": "code",
   "execution_count": 29,
   "id": "793cb78c-177d-4f0d-80c2-e3c4962be165",
   "metadata": {},
   "outputs": [
    {
     "name": "stdout",
     "output_type": "stream",
     "text": [
      "p-value по vas == 'non-paying': 0.928\n",
      "p-value по platform == 'android': 0.836\n",
      "p-value по user_type_cars_name == 'cars_seller': 0.843\n"
     ]
    }
   ],
   "source": [
    "# расчет p-value\n",
    "pval_vas = calc_p_value(df_user_passports, stratified_sample, lambda df: df['vas'] == 'non-paying')\n",
    "\n",
    "pval_android = calc_p_value(df_user_passports, stratified_sample, lambda df: df['platform'] == 'android')\n",
    "\n",
    "pval_cars_seller = calc_p_value(df_user_passports, stratified_sample, lambda df: df['user_type_cars_name'] == 'cars_seller')\n",
    "\n",
    "print(f\"p-value по vas == 'non-paying': {pval_vas}\")\n",
    "print(f\"p-value по platform == 'android': {pval_android}\")\n",
    "print(f\"p-value по user_type_cars_name == 'cars_seller': {pval_cars_seller}\")"
   ]
  },
  {
   "cell_type": "markdown",
   "id": "60e05f6e-1d2b-445c-9d9d-bce4dbd56be1",
   "metadata": {},
   "source": [
    "# Выгрузка данных по группам"
   ]
  },
  {
   "cell_type": "code",
   "execution_count": 31,
   "id": "ed7f15ab-2b79-43bc-8497-b76264d59a89",
   "metadata": {},
   "outputs": [
    {
     "name": "stdout",
     "output_type": "stream",
     "text": [
      "<class 'pandas.core.frame.DataFrame'>\n",
      "RangeIndex: 26018 entries, 0 to 26017\n",
      "Data columns (total 11 columns):\n",
      " #   Column               Non-Null Count  Dtype  \n",
      "---  ------               --------------  -----  \n",
      " 0   Unnamed: 0           26018 non-null  int64  \n",
      " 1   passport_id          26018 non-null  int64  \n",
      " 2   region               26018 non-null  object \n",
      " 3   platform             26018 non-null  object \n",
      " 4   user_type_cars_name  26018 non-null  object \n",
      " 5   number_ads           26018 non-null  int64  \n",
      " 6   revenue              26018 non-null  int64  \n",
      " 7   vas                  26018 non-null  int64  \n",
      " 8   combined             26018 non-null  object \n",
      " 9   combined_weight      26018 non-null  float64\n",
      " 10  group                26018 non-null  object \n",
      "dtypes: float64(1), int64(5), object(5)\n",
      "memory usage: 2.2+ MB\n"
     ]
    }
   ],
   "source": [
    "dp_live_adverts = pd.read_csv('samples2.csv')\n",
    "dp_live_adverts.info()"
   ]
  },
  {
   "cell_type": "code",
   "execution_count": 34,
   "id": "6dd5ffe3-74bc-4ba4-a88b-3f002872037d",
   "metadata": {},
   "outputs": [
    {
     "data": {
      "text/html": [
       "<div>\n",
       "<style scoped>\n",
       "    .dataframe tbody tr th:only-of-type {\n",
       "        vertical-align: middle;\n",
       "    }\n",
       "\n",
       "    .dataframe tbody tr th {\n",
       "        vertical-align: top;\n",
       "    }\n",
       "\n",
       "    .dataframe thead th {\n",
       "        text-align: right;\n",
       "    }\n",
       "</style>\n",
       "<table border=\"1\" class=\"dataframe\">\n",
       "  <thead>\n",
       "    <tr style=\"text-align: right;\">\n",
       "      <th></th>\n",
       "      <th>Unnamed: 0</th>\n",
       "      <th>passport_id</th>\n",
       "      <th>region</th>\n",
       "      <th>platform</th>\n",
       "      <th>user_type_cars_name</th>\n",
       "      <th>number_ads</th>\n",
       "      <th>revenue</th>\n",
       "      <th>vas</th>\n",
       "      <th>combined</th>\n",
       "      <th>combined_weight</th>\n",
       "      <th>group</th>\n",
       "    </tr>\n",
       "  </thead>\n",
       "  <tbody>\n",
       "    <tr>\n",
       "      <th>0</th>\n",
       "      <td>105602</td>\n",
       "      <td>136957831</td>\n",
       "      <td>Волгоград</td>\n",
       "      <td>android</td>\n",
       "      <td>cars_seller</td>\n",
       "      <td>1</td>\n",
       "      <td>0</td>\n",
       "      <td>0</td>\n",
       "      <td>('Волгоград', 'android', 'cars_seller', 0)</td>\n",
       "      <td>0.000007</td>\n",
       "      <td>['A']</td>\n",
       "    </tr>\n",
       "    <tr>\n",
       "      <th>1</th>\n",
       "      <td>46619</td>\n",
       "      <td>142530464</td>\n",
       "      <td>Волгоград</td>\n",
       "      <td>android</td>\n",
       "      <td>cars_seller</td>\n",
       "      <td>1</td>\n",
       "      <td>0</td>\n",
       "      <td>0</td>\n",
       "      <td>('Волгоград', 'android', 'cars_seller', 0)</td>\n",
       "      <td>0.000007</td>\n",
       "      <td>['B']</td>\n",
       "    </tr>\n",
       "    <tr>\n",
       "      <th>2</th>\n",
       "      <td>97503</td>\n",
       "      <td>143220356</td>\n",
       "      <td>Волгоград</td>\n",
       "      <td>android</td>\n",
       "      <td>cars_seller</td>\n",
       "      <td>2</td>\n",
       "      <td>0</td>\n",
       "      <td>0</td>\n",
       "      <td>('Волгоград', 'android', 'cars_seller', 0)</td>\n",
       "      <td>0.000007</td>\n",
       "      <td>['B']</td>\n",
       "    </tr>\n",
       "    <tr>\n",
       "      <th>3</th>\n",
       "      <td>35633</td>\n",
       "      <td>137497307</td>\n",
       "      <td>Волгоград</td>\n",
       "      <td>android</td>\n",
       "      <td>cars_seller</td>\n",
       "      <td>1</td>\n",
       "      <td>0</td>\n",
       "      <td>0</td>\n",
       "      <td>('Волгоград', 'android', 'cars_seller', 0)</td>\n",
       "      <td>0.000007</td>\n",
       "      <td>['A']</td>\n",
       "    </tr>\n",
       "    <tr>\n",
       "      <th>4</th>\n",
       "      <td>52222</td>\n",
       "      <td>131622431</td>\n",
       "      <td>Волгоград</td>\n",
       "      <td>android</td>\n",
       "      <td>cars_seller</td>\n",
       "      <td>1</td>\n",
       "      <td>0</td>\n",
       "      <td>0</td>\n",
       "      <td>('Волгоград', 'android', 'cars_seller', 0)</td>\n",
       "      <td>0.000007</td>\n",
       "      <td>['A']</td>\n",
       "    </tr>\n",
       "  </tbody>\n",
       "</table>\n",
       "</div>"
      ],
      "text/plain": [
       "   Unnamed: 0  passport_id     region platform user_type_cars_name  \\\n",
       "0      105602    136957831  Волгоград  android         cars_seller   \n",
       "1       46619    142530464  Волгоград  android         cars_seller   \n",
       "2       97503    143220356  Волгоград  android         cars_seller   \n",
       "3       35633    137497307  Волгоград  android         cars_seller   \n",
       "4       52222    131622431  Волгоград  android         cars_seller   \n",
       "\n",
       "   number_ads  revenue  vas                                    combined  \\\n",
       "0           1        0    0  ('Волгоград', 'android', 'cars_seller', 0)   \n",
       "1           1        0    0  ('Волгоград', 'android', 'cars_seller', 0)   \n",
       "2           2        0    0  ('Волгоград', 'android', 'cars_seller', 0)   \n",
       "3           1        0    0  ('Волгоград', 'android', 'cars_seller', 0)   \n",
       "4           1        0    0  ('Волгоград', 'android', 'cars_seller', 0)   \n",
       "\n",
       "   combined_weight  group  \n",
       "0         0.000007  ['A']  \n",
       "1         0.000007  ['B']  \n",
       "2         0.000007  ['B']  \n",
       "3         0.000007  ['A']  \n",
       "4         0.000007  ['A']  "
      ]
     },
     "execution_count": 34,
     "metadata": {},
     "output_type": "execute_result"
    }
   ],
   "source": [
    "dp_live_adverts.dropna()\n",
    "dp_live_adverts.head(5)"
   ]
  },
  {
   "cell_type": "markdown",
   "id": "f56ae667-29fc-4973-9624-10ca4382b45a",
   "metadata": {},
   "source": [
    "# Проверка на SRM"
   ]
  },
  {
   "cell_type": "code",
   "execution_count": 36,
   "id": "3f14ee59-a5e5-45f6-a25c-f292021378cf",
   "metadata": {},
   "outputs": [
    {
     "name": "stdout",
     "output_type": "stream",
     "text": [
      "Real sample sizes: [11748, 14270]\n",
      "Expected sample sizes: [13009.0, 13009.0]\n",
      "SRM, присутствует!!!\n",
      "Power_divergenceResult(statistic=244.46475516949803, pvalue=4.180479887875548e-55)\n"
     ]
    }
   ],
   "source": [
    "a = dp_live_adverts[dp_live_adverts['group'] == \"['A']\"]['passport_id'].count()\n",
    "b = dp_live_adverts[dp_live_adverts['group'] == \"['B']\"]['passport_id'].count()\n",
    "observed = [a, b]\n",
    "total = a + b\n",
    "ratio = 50\n",
    "alpha = 0.05\n",
    "\n",
    "expected = [ (total * ratio)/100, (total * (100 - ratio)/100) ] # ожидаемые размеры групп если бы ratio выполнялось полностью\n",
    "print('Real sample sizes:', observed)\n",
    "print('Expected sample sizes:', expected)\n",
    "\n",
    "chi = ss.chisquare(observed, f_exp = expected) # считаем результаты точечной оценки доли через хи-квадрат критерий\n",
    "\n",
    "if chi[1] < alpha:\n",
    "    print('SRM, присутствует!!!')\n",
    "else:\n",
    "    print('SRM отсутствует')\n",
    "print(chi)"
   ]
  },
  {
   "cell_type": "markdown",
   "id": "0a3096f6-bc6c-43d0-8fc3-6f61d3b1627c",
   "metadata": {},
   "source": [
    "# SSRM"
   ]
  },
  {
   "cell_type": "code",
   "execution_count": 48,
   "id": "4359af6d-8861-4376-baf6-1324d8c10799",
   "metadata": {},
   "outputs": [
    {
     "name": "stdout",
     "output_type": "stream",
     "text": [
      "Ожидаемое разделение: [13009.0, 13009.0]\n",
      "Наблюдаемое разделение: [14270, 11748]\n",
      "Общий трафик: 26018\n",
      "Распределение трафика между группами, полученное в ходе эксперимента: 54.8% и 45.2%\n"
     ]
    },
    {
     "name": "stderr",
     "output_type": "stream",
     "text": [
      "C:\\Users\\ludwi\\AppData\\Local\\Temp\\ipykernel_11676\\3701204479.py:8: FutureWarning: Series.__getitem__ treating keys as positions is deprecated. In a future version, integer keys will always be treated as labels (consistent with DataFrame behavior). To access a value by position, use `ser.iloc[pos]`\n",
      "  observed = [dp_live_adverts['group'].value_counts()[0], dp_live_adverts['group'].value_counts()[1]]\n",
      "C:\\Users\\ludwi\\AppData\\Local\\Temp\\ipykernel_11676\\3701204479.py:8: FutureWarning: Series.__getitem__ treating keys as positions is deprecated. In a future version, integer keys will always be treated as labels (consistent with DataFrame behavior). To access a value by position, use `ser.iloc[pos]`\n",
      "  observed = [dp_live_adverts['group'].value_counts()[0], dp_live_adverts['group'].value_counts()[1]]\n"
     ]
    }
   ],
   "source": [
    "np.random.seed(1)\n",
    "\n",
    "# Ожидаемое разделение трафика между группами\n",
    "expected = [ (total_traffic * ratio)/100, (total_traffic * (100 - ratio)/100) ]\n",
    "print('Ожидаемое разделение:', expected)\n",
    "\n",
    "# Реальное распределение трафика между группами\n",
    "observed = [dp_live_adverts['group'].value_counts()[0], dp_live_adverts['group'].value_counts()[1]]\n",
    "print('Наблюдаемое разделение:', observed)\n",
    "\n",
    "\n",
    "# Заданное число пользователей\n",
    "total_traffic = sum(observed)\n",
    "print('Общий трафик:', total_traffic)\n",
    "\n",
    "print(\n",
    "    \"Распределение трафика между группами, полученное в ходе эксперимента: {}% и {}%\".format(\n",
    "        round(100 * observed[0] / total_traffic, 1), round(100 * (total_traffic - observed[0]) / total_traffic, 1)\n",
    "    )\n",
    ")"
   ]
  },
  {
   "cell_type": "code",
   "execution_count": 53,
   "id": "7bc9340f-15cd-4611-a20e-4e2f7bf1d414",
   "metadata": {},
   "outputs": [
    {
     "name": "stdout",
     "output_type": "stream",
     "text": [
      "Всего пользователей: [0.55, 0.45]\n"
     ]
    },
    {
     "name": "stderr",
     "output_type": "stream",
     "text": [
      "C:\\Users\\ludwi\\AppData\\Local\\Temp\\ipykernel_11676\\1958701625.py:5: FutureWarning: Series.__getitem__ treating keys as positions is deprecated. In a future version, integer keys will always be treated as labels (consistent with DataFrame behavior). To access a value by position, use `ser.iloc[pos]`\n",
      "  observed = [dp_live_adverts['group'].value_counts()[0], dp_live_adverts['group'].value_counts()[1]]\n",
      "C:\\Users\\ludwi\\AppData\\Local\\Temp\\ipykernel_11676\\1958701625.py:5: FutureWarning: Series.__getitem__ treating keys as positions is deprecated. In a future version, integer keys will always be treated as labels (consistent with DataFrame behavior). To access a value by position, use `ser.iloc[pos]`\n",
      "  observed = [dp_live_adverts['group'].value_counts()[0], dp_live_adverts['group'].value_counts()[1]]\n"
     ]
    }
   ],
   "source": [
    "# Ожидаемое разделение трафика между группами\n",
    "expected_pct = [0.5, 0.5]\n",
    "\n",
    "# Реальное распределение трафика между группами\n",
    "observed = [dp_live_adverts['group'].value_counts()[0], dp_live_adverts['group'].value_counts()[1]]\n",
    "\n",
    "# Распределение трафика между группами, полученное в ходе эксперимента\n",
    "observed_pct = [round(observed[0] / total_traffic, 2), round((total_traffic - observed[0]) / total_traffic, 2)]\n",
    "print('Всего пользователей:', observed_pct)"
   ]
  },
  {
   "cell_type": "code",
   "execution_count": 57,
   "id": "40dd17dd-7ef1-4afd-bf64-d3f538d516f8",
   "metadata": {},
   "outputs": [],
   "source": [
    "# преобразуем группы А и Б в формат, требуемый SSRM\n",
    "def map_value(value):\n",
    "    if value == \"['A']\":\n",
    "        return [1, 0]\n",
    "    elif value == \"['B']\":\n",
    "        return [0, 1]\n",
    "    else:\n",
    "        return None\n",
    "\n",
    "# преобразуем данные в список\n",
    "dp_live_adverts['data'] = dp_live_adverts['group'].apply(map_value)\n",
    "data = dp_live_adverts['data'].to_list()"
   ]
  },
  {
   "cell_type": "code",
   "execution_count": 61,
   "id": "48f13c5b-6244-4d92-951f-b614c4b84942",
   "metadata": {},
   "outputs": [
    {
     "data": {
      "image/png": "[encoded data removed]",
      "text/plain": [
       "<Figure size 640x480 with 1 Axes>"
      ]
     },
     "metadata": {},
     "output_type": "display_data"
    }
   ],
   "source": [
    "pvals = ssrm_test.sequential_p_values(data, expected_pct)\n",
    "fig = plt.figure()\n",
    "plt.plot(pvals)\n",
    "fig.suptitle(\"Последовательное p-value для тестировния SRM\", fontsize=20)\n",
    "plt.xlabel(\"Трафик\", fontsize=16)\n",
    "plt.ylabel(\"p-value\", fontsize=16)\n",
    "plt.ylim(0, 1)\n",
    "plt.show()"
   ]
  },
  {
   "cell_type": "code",
   "execution_count": 63,
   "id": "83a46dd6-c570-40f3-86fe-3ae9704c7d5d",
   "metadata": {},
   "outputs": [
    {
     "name": "stdout",
     "output_type": "stream",
     "text": [
      "SSRM отклонило нулевую гипотезу об отсутствии SRM при уровне значимости alpha=0.05 после 3023 пользователей\n",
      "Это 12% от общего числа пользователей для этого эксперимента\n"
     ]
    }
   ],
   "source": [
    "sig_reached = np.argmax(np.array(pvals) < 0.05)\n",
    "\n",
    "print(\n",
    "    \"SSRM отклонило нулевую гипотезу об отсутствии SRM при уровне значимости alpha=0.05 после {} пользователей\".format(\n",
    "        sig_reached)\n",
    ")\n",
    "print(\n",
    "    \"Это {}% от общего числа пользователей для этого эксперимента\".format(\n",
    "        round(100 * sig_reached / total_traffic), 3)\n",
    ")"
   ]
  }
 ],
 "metadata": {
  "kernelspec": {
   "display_name": "Python [conda env:base] *",
   "language": "python",
   "name": "conda-base-py"
  },
  "language_info": {
   "codemirror_mode": {
    "name": "ipython",
    "version": 3
   },
   "file_extension": ".py",
   "mimetype": "text/x-python",
   "name": "python",
   "nbconvert_exporter": "python",
   "pygments_lexer": "ipython3",
   "version": "3.12.7"
  }
 },
 "nbformat": 4,
 "nbformat_minor": 5
}
